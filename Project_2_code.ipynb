{
  "nbformat": 4,
  "nbformat_minor": 0,
  "metadata": {
    "kernelspec": {
      "display_name": "Python 3",
      "language": "python",
      "name": "python3"
    },
    "language_info": {
      "codemirror_mode": {
        "name": "ipython",
        "version": 3
      },
      "file_extension": ".py",
      "mimetype": "text/x-python",
      "name": "python",
      "nbconvert_exporter": "python",
      "pygments_lexer": "ipython3",
      "version": "3.5.2"
    },
    "colab": {
      "name": "Project_2_code.ipynb",
      "provenance": [],
      "toc_visible": true,
      "include_colab_link": true
    }
  },
  "cells": [
    {
      "cell_type": "markdown",
      "metadata": {
        "id": "view-in-github",
        "colab_type": "text"
      },
      "source": [
        "<a href=\"https://colab.research.google.com/github/kassymkhan0101/project_2/blob/master/Project_2_code.ipynb\" target=\"_parent\"><img src=\"https://colab.research.google.com/assets/colab-badge.svg\" alt=\"Open In Colab\"/></a>"
      ]
    },
    {
      "cell_type": "markdown",
      "metadata": {
        "id": "4tLB3sP-L6f_",
        "colab_type": "text"
      },
      "source": [
        "# Project-2\n",
        "\n",
        "Before working on this assignment please read these instructions fully.\n",
        "\n",
        "This assignment requires that you to find **at least** two datasets on the web which are related, and that you visualize these datasets to answer a question with the broad topic of **sports** (or the topic of **your choice**) for the region of **Almaty, Kazakhstan**, or the region of **your choice**.\n",
        "\n",
        "You can merge these datasets with data from different regions if you like! For instance, you might want to compare **Almaty, Kazakhstan** to Almaty oblast, Kazakhstan.\n",
        "\n",
        "You are welcome to choose datasets at your discretion, but keep in mind **they will be shared with me**, so choose appropriate datasets. Sensitive, confidential, illicit, and proprietary materials are not good choices for datasets for this assignment. You are welcome to upload datasets of your own as well, and link to them using a third party repository such as github, bitbucket, pastebin, etc.\n",
        "\n",
        "Also, you are welcome to preserve data in its original language, but for the purposes of grading you should provide english translations. You are welcome to provide multiple visuals in different languages if you would like!\n",
        "\n",
        "As this assignment is for the whole course, you must incorporate principles discussed in the first week, such as having as high data-ink ratio and aligning with Cairo’s principles of truth, beauty, function, and insight.\n",
        "\n",
        "Here are the assignment instructions:\n",
        "\n",
        " * State the region and the domain category that your data sets are about (e.g., **Almaty, Kazakhstan** and **sports**).\n",
        " * You must state a question about the domain category and region that you identified as being interesting.\n",
        " * You must provide at least two links to available datasets. These could be links to files such as CSV or Excel files, or links to websites which might have data in tabular form, such as Wikipedia pages.\n",
        " * You must upload an image which addresses the research question you stated. In addition to addressing the question, this visual should follow Cairo's principles of truthfulness, functionality, beauty, and insightfulness.\n",
        " * You must contribute a short (1-2 paragraph) written justification of how your visualization addresses your stated research question.\n",
        "\n",
        "What do we mean by **sports**?  For this category we are interested in sporting events or athletics broadly, please feel free to creatively interpret the category when building your research question!\n",
        "\n",
        "## Tips\n",
        "* Wikipedia is an excellent source of data, and I strongly encourage you to explore it for new data sources.\n",
        "* Many governments run open data initiatives at the city, region, and country levels, and these are wonderful resources for localized data sources.\n",
        "* Several international agencies, such as the [United Nations](http://data.un.org/), the [World Bank](http://data.worldbank.org/), the [Global Open Data Index](http://index.okfn.org/place/) are other great places to look for data.\n",
        "* This assignment requires you to convert and clean datafiles. Check out the discussion forums for tips on how to do this from various sources, and share your successes with your fellow students!\n",
        "\n",
        "## Example\n",
        "Looking for an example? Here's what our course assistant put together for the **Ann Arbor, MI, USA** area using **sports and athletics** as the topic. [Example Solution File](Project2_example.pdf)"
      ]
    },
    {
      "cell_type": "code",
      "metadata": {
        "id": "Svex2ScKhx0L",
        "colab_type": "code",
        "colab": {}
      },
      "source": [
        "import pandas as pd\n",
        "import numpy as np\n",
        "import matplotlib.pyplot as plt\n",
        "from sklearn import preprocessing\n",
        "plt.style.use('seaborn-bright')\n",
        "\n",
        "%matplotlib inline\n",
        "df = pd.read_csv('adexpense.csv', delimiter = \";\")\n",
        "dm = pd.read_csv('epmnum.csv', delimiter = \";\")\n",
        "de = pd.read_csv('netprofit.csv', delimiter = \";\")\n"
      ],
      "execution_count": 0,
      "outputs": []
    },
    {
      "cell_type": "code",
      "metadata": {
        "id": "n9hY_jTcwjNl",
        "colab_type": "code",
        "colab": {}
      },
      "source": [
        "del df['Unnamed: 2']\n",
        "del de['Unnamed: 2']\n",
        "del dm['Unnamed: 2']"
      ],
      "execution_count": 0,
      "outputs": []
    },
    {
      "cell_type": "code",
      "metadata": {
        "id": "1taCH7BC27_V",
        "colab_type": "code",
        "colab": {}
      },
      "source": [
        "df.rename(columns={'adexpense (in $ billion)': 'adexpense'}, inplace=True)\n",
        "de.rename(columns={'netprofit (in $ billions)': 'netprofit'}, inplace=True)\n",
        "dm.rename(columns={'epmnum (in 1000s)': 'epmnum'}, inplace=True)"
      ],
      "execution_count": 0,
      "outputs": []
    },
    {
      "cell_type": "code",
      "metadata": {
        "id": "2OwKkmj3DCMV",
        "colab_type": "code",
        "colab": {
          "base_uri": "https://localhost:8080/",
          "height": 195
        },
        "outputId": "49f08fcd-711e-4407-b0ab-fc544db9e8a2"
      },
      "source": [
        "de.head()"
      ],
      "execution_count": 5,
      "outputs": [
        {
          "output_type": "execute_result",
          "data": {
            "text/html": [
              "<div>\n",
              "<style scoped>\n",
              "    .dataframe tbody tr th:only-of-type {\n",
              "        vertical-align: middle;\n",
              "    }\n",
              "\n",
              "    .dataframe tbody tr th {\n",
              "        vertical-align: top;\n",
              "    }\n",
              "\n",
              "    .dataframe thead th {\n",
              "        text-align: right;\n",
              "    }\n",
              "</style>\n",
              "<table border=\"1\" class=\"dataframe\">\n",
              "  <thead>\n",
              "    <tr style=\"text-align: right;\">\n",
              "      <th></th>\n",
              "      <th>year</th>\n",
              "      <th>netprofit</th>\n",
              "    </tr>\n",
              "  </thead>\n",
              "  <tbody>\n",
              "    <tr>\n",
              "      <th>0</th>\n",
              "      <td>2013</td>\n",
              "      <td>66.42</td>\n",
              "    </tr>\n",
              "    <tr>\n",
              "      <th>1</th>\n",
              "      <td>2014</td>\n",
              "      <td>66.68</td>\n",
              "    </tr>\n",
              "    <tr>\n",
              "      <th>2</th>\n",
              "      <td>2015</td>\n",
              "      <td>63.06</td>\n",
              "    </tr>\n",
              "    <tr>\n",
              "      <th>3</th>\n",
              "      <td>2016</td>\n",
              "      <td>62.80</td>\n",
              "    </tr>\n",
              "    <tr>\n",
              "      <th>4</th>\n",
              "      <td>2017</td>\n",
              "      <td>63.53</td>\n",
              "    </tr>\n",
              "  </tbody>\n",
              "</table>\n",
              "</div>"
            ],
            "text/plain": [
              "   year  netprofit\n",
              "0  2013      66.42\n",
              "1  2014      66.68\n",
              "2  2015      63.06\n",
              "3  2016      62.80\n",
              "4  2017      63.53"
            ]
          },
          "metadata": {
            "tags": []
          },
          "execution_count": 5
        }
      ]
    },
    {
      "cell_type": "code",
      "metadata": {
        "id": "yCCl9uN5_wJA",
        "colab_type": "code",
        "outputId": "37562650-d739-427d-d3a5-6e8b6fc9f6f3",
        "colab": {
          "base_uri": "https://localhost:8080/",
          "height": 317
        }
      },
      "source": [
        "x = df.year\n",
        "adexpenses = (df.adexpense)*100 #I multiplied adexpense values by 100, because original values were too small to compare with other arguments.\n",
        "employees = dm.epmnum\n",
        "revenue = (de.netprofit)*3 #I multiplied adexpense values by 2, because original values were too small to compare with other arguments\n",
        "ax = plt.gca()\n",
        "ax.set_xlabel('Year', fontsize = 15, weight = 'bold')\n",
        "ax.set_ylabel('Units', fontsize = 15, weight = 'bold')\n",
        "ax.set_title('Year vs Net employee & Net Ad expense & Net Profit ')\n",
        "plt.bar(x, adexpenses, width = 0.5, label='adexpenses in 10m-s', color = \"black\") # black bars represent the value of expensense on ad\n",
        "plt.bar(x, employees, width = 0.35, label='employees in 1000s',color = \"red\") # red bars represent the number of employee\n",
        "plt.bar(x, revenue, width = 0.25, label='revenue in 333.3m-s',color = \"green\") # green bars represent the net profit\n",
        "plt.legend(loc=\"lower right\")\n"
      ],
      "execution_count": 6,
      "outputs": [
        {
          "output_type": "execute_result",
          "data": {
            "text/plain": [
              "<matplotlib.legend.Legend at 0x7f5f97cfc128>"
            ]
          },
          "metadata": {
            "tags": []
          },
          "execution_count": 6
        },
        {
          "output_type": "display_data",
          "data": {
            "image/png": "[encoded data removed]",
            "text/plain": [
              "<Figure size 432x288 with 1 Axes>"
            ]
          },
          "metadata": {
            "tags": []
          }
        }
      ]
    }
  ]
}